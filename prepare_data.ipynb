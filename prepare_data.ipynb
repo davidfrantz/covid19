{
 "cells": [
  {
   "cell_type": "markdown",
   "metadata": {},
   "source": [
    "# Prepare COVID-19 data from Robert Koch-Institute"
   ]
  },
  {
   "cell_type": "markdown",
   "metadata": {},
   "source": [
    "## 1. Prepare spatial data\n",
    "\n",
    "RKI COVID data are reported per district (**LK = \"Landkreis\"**), but do not contain coordinates.\n",
    "Therefore, we read an LK polygon shapefile, and compute the center coordinate for each polygon.\n",
    "These coordinates are then appended to the COVID data using the Landkreis ID.\n",
    "\n",
    "Data source: [Robert Koch-Institut (RKI), dl-de/by-2-0](https://npgeo-corona-npgeo-de.hub.arcgis.com/datasets/917fc37a709542548cc3be077a786c17_0)"
   ]
  },
  {
   "cell_type": "code",
   "execution_count": 1,
   "metadata": {},
   "outputs": [
    {
     "name": "stderr",
     "output_type": "stream",
     "text": [
      "Loading required package: rgdal\n",
      "\n",
      "Loading required package: sp\n",
      "\n",
      "rgdal: version: 1.4-7, (SVN revision 845)\n",
      " Geospatial Data Abstraction Library extensions to R successfully loaded\n",
      " Loaded GDAL runtime: GDAL 2.2.2, released 2017/09/15\n",
      " Path to GDAL shared files: /usr/share/gdal/2.2\n",
      " GDAL binary built with GEOS: TRUE \n",
      " Loaded PROJ.4 runtime: Rel. 4.9.2, 08 September 2015, [PJ_VERSION: 492]\n",
      " Path to PROJ.4 shared files: (autodetected)\n",
      " Linking to sp version: 1.3-2 \n",
      "\n",
      "Loading required package: rgeos\n",
      "\n",
      "rgeos version: 0.5-3, (SVN revision 634)\n",
      " GEOS runtime version: 3.5.1-CAPI-1.9.1 \n",
      " Linking to sp version: 1.3-2 \n",
      " Polygon checking: TRUE \n",
      "\n",
      "\n"
     ]
    },
    {
     "name": "stdout",
     "output_type": "stream",
     "text": [
      "OGR data source with driver: ESRI Shapefile \n",
      "Source: \"/home/frantzda/cor/covid19/data/Landkreise.shp\", layer: \"Landkreise\"\n",
      "with 412 features\n",
      "It has 39 fields\n",
      "'data.frame':\t412 obs. of  39 variables:\n",
      " $ FID       : int  1 2 3 4 5 6 7 8 9 10 ...\n",
      " $ ADE       : int  4 4 4 4 4 4 4 4 4 4 ...\n",
      " $ GF        : int  4 4 4 4 4 4 4 4 4 4 ...\n",
      " $ BSG       : int  1 1 1 1 1 1 1 1 1 1 ...\n",
      " $ RS        : Factor w/ 412 levels \"01001\",\"01002\",..: 1 2 3 4 5 6 7 8 9 10 ...\n",
      " $ AGS       : Factor w/ 400 levels \"01001\",\"01002\",..: 1 2 3 4 5 6 7 8 9 10 ...\n",
      " $ SDV_RS    : Factor w/ 368 levels \"010010000000\",..: 1 2 3 4 5 6 7 8 9 10 ...\n",
      " $ GEN       : Factor w/ 390 levels \"Ahrweiler\",\"Aichach-Friedberg\",..: 104 170 193 229 77 151 237 261 268 270 ...\n",
      " $ BEZ       : Factor w/ 5 levels \"Bezirk\",\"Kreis\",..: 3 3 3 3 2 2 2 2 2 2 ...\n",
      " $ IBZ       : int  40 40 40 40 42 42 42 42 42 42 ...\n",
      " $ BEM       : Factor w/ 2 levels \"--\",\"Sonderverband\": 1 1 1 1 1 1 1 1 1 1 ...\n",
      " $ NBD       : Factor w/ 2 levels \"ja\",\"nein\": 1 1 1 1 1 1 1 1 1 1 ...\n",
      " $ SN_L      : Factor w/ 15 levels \"01\",\"02\",\"03\",..: 1 1 1 1 1 1 1 1 1 1 ...\n",
      " $ SN_R      : Factor w/ 9 levels \"0\",\"1\",\"2\",\"3\",..: 1 1 1 1 1 1 1 1 1 1 ...\n",
      " $ SN_K      : Factor w/ 83 levels \"00\",\"01\",\"02\",..: 2 3 4 5 43 45 46 47 48 49 ...\n",
      " $ SN_V1     : Factor w/ 1 level \"00\": 1 1 1 1 1 1 1 1 1 1 ...\n",
      " $ SN_V2     : Factor w/ 1 level \"00\": 1 1 1 1 1 1 1 1 1 1 ...\n",
      " $ SN_G      : Factor w/ 1 level \"000\": 1 1 1 1 1 1 1 1 1 1 ...\n",
      " $ FK_S3     : Factor w/ 2 levels \"K\",\"R\": 2 2 2 2 2 2 2 2 2 2 ...\n",
      " $ NUTS      : Factor w/ 400 levels \"DE111\",\"DE112\",..: 363 364 365 366 367 368 369 370 371 372 ...\n",
      " $ RS_0      : Factor w/ 400 levels \"010010000000\",..: 1 2 3 4 5 6 7 8 9 10 ...\n",
      " $ AGS_0     : Factor w/ 400 levels \"01001000\",\"01002000\",..: 1 2 3 4 5 6 7 8 9 10 ...\n",
      " $ WSK       : Factor w/ 85 levels \"1968/10/01 00:00:00.000\",..: 49 43 44 4 59 52 79 55 52 52 ...\n",
      " $ EWZ       : int  89504 247548 217198 79487 133210 197264 165507 200581 314391 128647 ...\n",
      " $ KFL       : num  56.7 118.7 214.2 71.7 1428.2 ...\n",
      " $ DEBKG_ID  : Factor w/ 400 levels \"DEBKGDL20000001Q\",..: 4 269 58 287 158 54 7 2 272 3 ...\n",
      " $ death_rate: num  7.143 3.226 0.599 2.532 5.085 ...\n",
      " $ cases     : int  42 279 167 79 59 266 88 68 599 120 ...\n",
      " $ deaths    : int  3 9 1 2 3 16 1 0 44 8 ...\n",
      " $ cases_per_: num  46.9 112.7 76.9 99.4 44.3 ...\n",
      " $ cases_pe_1: num  0.0469 0.1127 0.0769 0.0994 0.0443 ...\n",
      " $ BL        : Factor w/ 16 levels \"Baden-Württemberg\",..: 15 15 15 15 15 15 15 15 15 15 ...\n",
      " $ BL_ID     : Factor w/ 16 levels \"1\",\"10\",\"11\",..: 1 1 1 1 1 1 1 1 1 1 ...\n",
      " $ county    : Factor w/ 412 levels \"LK Ahrweiler\",..: 336 359 367 377 51 102 167 187 193 194 ...\n",
      " $ last_updat: Factor w/ 1 level \"01.06.2020, 00:00 Uhr\": 1 1 1 1 1 1 1 1 1 1 ...\n",
      " $ cases7_per: num  3.352 0.404 0 0 0 ...\n",
      " $ recovered : int  NA NA NA NA NA NA NA NA NA NA ...\n",
      " $ SHAPE_Leng: num  0.525 1.275 1.835 0.663 3.073 ...\n",
      " $ SHAPE_Area: num  0.00687 0.01551 0.02893 0.00981 0.19609 ...\n",
      "'data.frame':\t412 obs. of  4 variables:\n",
      " $ x  : num  9.44 10.13 10.73 9.98 9.11 ...\n",
      " $ y  : num  54.8 54.3 53.9 54.1 54.1 ...\n",
      " $ RS : int  1001 1002 1003 1004 1051 1053 1054 1055 1056 1057 ...\n",
      " $ POP: int  89504 247548 217198 79487 133210 197264 165507 200581 314391 128647 ...\n"
     ]
    }
   ],
   "source": [
    "require(rgdal) # for reading shapefile\n",
    "require(rgeos) # for computing centroids\n",
    "\n",
    "# read Landkreis Shapefile\n",
    "lk <- readOGR(\"data/Landkreise.shp\")\n",
    "str(lk@data)\n",
    "\n",
    "# compute centroid per polygon\n",
    "cen <- gCentroid(lk, byid=TRUE)\n",
    "#str(cen)\n",
    "\n",
    "# make table with coordinates and Landkreis ID\n",
    "lk_ <- cbind(as.data.frame(cen@coords), RS=as.integer(gsub(\"^0\", \"\", lk$RS)), POP=lk$EWZ)\n",
    "str(lk_)"
   ]
  },
  {
   "cell_type": "markdown",
   "metadata": {},
   "source": [
    "## 2. Prepare COVID-19 data\n",
    "\n",
    "### 2.1 Download and clean data\n",
    "\n",
    "This code snippet downloads and prepares the **latest COVID-19 data** from RKI.\n",
    "RKI updates the COVID-19 cases on a daily basis.\n",
    "\n",
    "The cases are reported for districts (\"Landkreise\") - with the exception of Berlin, where cases are reported for the 12 \"Bezirke\".\n",
    "To match the spatial data, Berlin is dissolved to the district level.\n",
    "\n",
    "Data source: [Robert Koch-Institut (RKI), dl-de/by-2-0](https://npgeo-corona-npgeo-de.hub.arcgis.com/datasets/dd4580c810204019a7b8eb3e0b329dd6_0)"
   ]
  },
  {
   "cell_type": "code",
   "execution_count": 2,
   "metadata": {},
   "outputs": [
    {
     "name": "stdout",
     "output_type": "stream",
     "text": [
      "'data.frame':\t145408 obs. of  20 variables:\n",
      " $ FID                 : int  9819932 9819933 9819934 9819935 9819936 9819937 9819938 9819939 9819940 9819941 ...\n",
      " $ IdBundesland        : int  1 1 1 1 1 1 1 1 1 1 ...\n",
      " $ Bundesland          : Factor w/ 16 levels \"Baden-Württemberg\",..: 15 15 15 15 15 15 15 15 15 15 ...\n",
      " $ Landkreis           : Factor w/ 412 levels \"LK Ahrweiler\",..: 336 336 336 336 336 336 336 336 336 336 ...\n",
      " $ Altersgruppe        : Factor w/ 7 levels \"A00-A04\",\"A05-A14\",..: 3 3 3 3 3 3 3 3 3 3 ...\n",
      " $ Geschlecht          : Factor w/ 3 levels \"M\",\"unbekannt\",..: 1 1 1 1 1 1 1 1 1 1 ...\n",
      " $ AnzahlFall          : num  1 1 1 1 1 1 1 1 1 1 ...\n",
      " $ AnzahlTodesfall     : int  0 0 0 0 0 0 0 0 0 0 ...\n",
      " $ Meldedatum          : Factor w/ 109 levels \"2020/01/28 00:00:00\",..: 31 36 36 38 44 52 54 55 57 107 ...\n",
      " $ IdLandkreis         : int  1001 1001 1001 1001 1001 1001 1001 1001 1001 1001 ...\n",
      " $ Datenstand          : Factor w/ 1 level \"01.06.2020, 00:00 Uhr\": 1 1 1 1 1 1 1 1 1 1 ...\n",
      " $ NeuerFall           : int  0 0 0 0 0 0 0 0 0 0 ...\n",
      " $ NeuerTodesfall      : int  -9 -9 -9 -9 -9 -9 -9 -9 -9 -9 ...\n",
      " $ Refdatum            : Factor w/ 134 levels \"2020/01/01 00:00:00\",..: 58 55 58 55 64 74 75 75 78 132 ...\n",
      " $ NeuGenesen          : int  0 0 0 0 0 0 0 0 0 -9 ...\n",
      " $ AnzahlGenesen       : int  1 1 1 1 1 1 1 1 1 0 ...\n",
      " $ IstErkrankungsbeginn: int  1 1 1 1 1 1 1 1 1 0 ...\n",
      " $ Altersgruppe2       : Factor w/ 1 level \"Nicht übermittelt\": 1 1 1 1 1 1 1 1 1 1 ...\n",
      " $ RS                  : int  1001 1001 1001 1001 1001 1001 1001 1001 1001 1001 ...\n",
      " $ date                : POSIXct, format: \"2020-03-14\" \"2020-03-19\" ...\n"
     ]
    }
   ],
   "source": [
    "# download latest data\n",
    "download.file(\"https://opendata.arcgis.com/datasets/dd4580c810204019a7b8eb3e0b329dd6_0.csv\", \"data/RKI_COVID19.csv\")\n",
    "\n",
    "# read COVID-19 statistics\n",
    "rki <- read.csv(\"data/RKI_COVID19.csv\")\n",
    "#str(rki)\n",
    "\n",
    "# add new column for Landkreis ID\n",
    "rki <- cbind(rki, RS=as.integer(rki$IdLandkreis))\n",
    "#str(rki)\n",
    "\n",
    "# dissolve Berlin districts\n",
    "#rki$RS[which(rki$RS > 11000 & rki$RS < 12000)] <- 11000L\n",
    "#rki$Landkreis <- gsub(\"(SK Berlin).*\", \"\\\\1\", rki$Landkreis)\n",
    "\n",
    "# fix -1 cases\n",
    "# not sure why this happens, but if these values are set to 1, the cases are identical to the ones reported in the news\n",
    "rki$AnzahlFall[which(rki$AnzahlFall < 1)] <- 1\n",
    "\n",
    "# add new column with a proper date\n",
    "rki <- cbind(rki, date=as.POSIXct(rki$Meldedatum))\n",
    "str(rki)\n"
   ]
  },
  {
   "cell_type": "markdown",
   "metadata": {},
   "source": [
    "### 2.2 Convert to dataframe\n",
    "\n",
    "The RKI data are very detailed.\n",
    "For keeping things simple, we only keep necessary variables:\n",
    "- coordinates (Lat/Lon)\n",
    "- time\n",
    "- Landkreis name and ID\n",
    "- population\n",
    "\n",
    "If all properties (e.g. district, date, age, gender etc.) are the same, RKI seems to group cases.\n",
    "However, we need the number of cases per district and day (but regardless of age or gender).\n",
    "1. We firstly explode these groups into individual cases.\n",
    "   The dataframe ``df`` has one row for each COVID-19 case in Germany.\n",
    "   Many rows in ``df`` are redundant.\n",
    "2. We count unique rows.\n",
    "   The new dataframe ``df_day`` has one row per district and day (with case count as extra column).\n",
    "3. We compute incidence (cases per 100,000 cap)"
   ]
  },
  {
   "cell_type": "code",
   "execution_count": 3,
   "metadata": {},
   "outputs": [
    {
     "name": "stderr",
     "output_type": "stream",
     "text": [
      "Loading required package: plyr\n",
      "\n"
     ]
    },
    {
     "name": "stdout",
     "output_type": "stream",
     "text": [
      "'data.frame':\t181837 obs. of  6 variables:\n",
      " $ X  : num  9.44 9.44 9.44 9.44 9.44 ...\n",
      " $ Y  : num  54.8 54.8 54.8 54.8 54.8 ...\n",
      " $ T  : POSIXct, format: \"2020-03-14\" \"2020-03-19\" ...\n",
      " $ LK : Factor w/ 412 levels \"LK Ahrweiler\",..: 336 336 336 336 336 336 336 336 336 336 ...\n",
      " $ ID : int  1001 1001 1001 1001 1001 1001 1001 1001 1001 1001 ...\n",
      " $ POP: int  89504 89504 89504 89504 89504 89504 89504 89504 89504 89504 ...\n",
      "'data.frame':\t22706 obs. of  7 variables:\n",
      " $ X  : num  9.44 9.44 9.44 9.44 9.44 ...\n",
      " $ Y  : num  54.8 54.8 54.8 54.8 54.8 ...\n",
      " $ T  : POSIXct, format: \"2020-03-14\" \"2020-03-19\" ...\n",
      " $ LK : Factor w/ 412 levels \"LK Ahrweiler\",..: 336 336 336 336 336 336 336 336 336 336 ...\n",
      " $ ID : int  1001 1001 1001 1001 1001 1001 1001 1001 1001 1001 ...\n",
      " $ POP: int  89504 89504 89504 89504 89504 89504 89504 89504 89504 89504 ...\n",
      " $ N  : int  4 4 1 1 1 1 1 1 1 2 ...\n"
     ]
    }
   ],
   "source": [
    "require(plyr) # count cases for each LK and day\n",
    "\n",
    "# compile dataframe\n",
    "# sometimes, cases are reported together -> explode\n",
    "df <- data.frame(X=0, \n",
    "                 Y=0, \n",
    "                 T=rep(rki$date,       rki$AnzahlFall),\n",
    "                 LK=rep(rki$Landkreis, rki$AnzahlFall),\n",
    "                 ID=rep(rki$RS,        rki$AnzahlFall),\n",
    "                 POP=0)\n",
    "pos <- sapply(df$ID, function(x)which(x==lk_$RS))\n",
    "df$X   <- lk_$x[pos]\n",
    "df$Y   <- lk_$y[pos]\n",
    "df$POP <- lk_$POP[pos]\n",
    "str(df)\n",
    "              \n",
    "# compile analysis-ready data\n",
    "df_day <- count(df)\n",
    "colnames(df_day)[7] <- \"N\"\n",
    "str(df_day)"
   ]
  },
  {
   "cell_type": "markdown",
   "metadata": {},
   "source": [
    "## 3. Export analysis-ready data"
   ]
  },
  {
   "cell_type": "code",
   "execution_count": 4,
   "metadata": {},
   "outputs": [],
   "source": [
    "# write table with n cases per day and LK\n",
    "write.csv(df_day, \"data/covid19-deu.csv\", row.names=FALSE)"
   ]
  }
 ],
 "metadata": {
  "kernelspec": {
   "display_name": "R",
   "language": "R",
   "name": "ir"
  },
  "language_info": {
   "codemirror_mode": "r",
   "file_extension": ".r",
   "mimetype": "text/x-r-source",
   "name": "R",
   "pygments_lexer": "r",
   "version": "3.6.3"
  }
 },
 "nbformat": 4,
 "nbformat_minor": 4
}
