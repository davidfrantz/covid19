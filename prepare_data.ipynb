{
 "cells": [
  {
   "cell_type": "markdown",
   "metadata": {},
   "source": [
    "# Prepare COVID-19 data from Robert Koch-Institute"
   ]
  },
  {
   "cell_type": "markdown",
   "metadata": {},
   "source": [
    "## 1. Prepare spatial data\n",
    "\n",
    "RKI COVID data are reported per district (**LK = \"Landkreis\"**), but do not contain coordinates.\n",
    "Therefore, we read an LK polygon shapefile, and compute the center coordinate for each polygon.\n",
    "These coordinates are then appended to the COVID data using the Landkreis ID.\n",
    "\n",
    "Data source: [Robert Koch-Institut (RKI), dl-de/by-2-0](https://npgeo-corona-npgeo-de.hub.arcgis.com/datasets/917fc37a709542548cc3be077a786c17_0)"
   ]
  },
  {
   "cell_type": "code",
   "execution_count": 1,
   "metadata": {},
   "outputs": [
    {
     "name": "stderr",
     "output_type": "stream",
     "text": [
      "Loading required package: rgdal\n",
      "\n",
      "Loading required package: sp\n",
      "\n",
      "rgdal: version: 1.4-7, (SVN revision 845)\n",
      " Geospatial Data Abstraction Library extensions to R successfully loaded\n",
      " Loaded GDAL runtime: GDAL 2.2.2, released 2017/09/15\n",
      " Path to GDAL shared files: /usr/share/gdal/2.2\n",
      " GDAL binary built with GEOS: TRUE \n",
      " Loaded PROJ.4 runtime: Rel. 4.9.2, 08 September 2015, [PJ_VERSION: 492]\n",
      " Path to PROJ.4 shared files: (autodetected)\n",
      " Linking to sp version: 1.3-2 \n",
      "\n",
      "Loading required package: rgeos\n",
      "\n",
      "rgeos version: 0.5-3, (SVN revision 634)\n",
      " GEOS runtime version: 3.5.1-CAPI-1.9.1 \n",
      " Linking to sp version: 1.3-2 \n",
      " Polygon checking: TRUE \n",
      "\n",
      "\n"
     ]
    },
    {
     "name": "stdout",
     "output_type": "stream",
     "text": [
      "OGR data source with driver: ESRI Shapefile \n",
      "Source: \"/home/frantzda/cor/covid19/data/Landkreise.shp\", layer: \"Landkreise\"\n",
      "with 412 features\n",
      "It has 39 fields\n",
      "'data.frame':\t412 obs. of  4 variables:\n",
      " $ x  : num  9.44 10.13 10.73 9.98 9.11 ...\n",
      " $ y  : num  54.8 54.3 53.9 54.1 54.1 ...\n",
      " $ RS : int  1001 1002 1003 1004 1051 1053 1054 1055 1056 1057 ...\n",
      " $ POP: int  89504 247548 217198 79487 133210 197264 165507 200581 314391 128647 ...\n"
     ]
    }
   ],
   "source": [
    "require(rgdal) # for reading shapefile\n",
    "require(rgeos) # for computing centroids\n",
    "\n",
    "# read Landkreis Shapefile\n",
    "lk <- readOGR(\"data/Landkreise.shp\")\n",
    "#str(lk@data)\n",
    "\n",
    "# compute centroid per polygon\n",
    "cen <- gCentroid(lk, byid=TRUE)\n",
    "#str(cen)\n",
    "\n",
    "# make table with coordinates and Landkreis ID\n",
    "lk_ <- cbind(as.data.frame(cen@coords), RS=as.integer(gsub(\"^0\", \"\", lk$RS)), POP=lk$EWZ)\n",
    "str(lk_)"
   ]
  },
  {
   "cell_type": "markdown",
   "metadata": {},
   "source": [
    "We simplify the geometry of the states (Bundesländer) for more efficient visualization."
   ]
  },
  {
   "cell_type": "code",
   "execution_count": 2,
   "metadata": {},
   "outputs": [
    {
     "name": "stdout",
     "output_type": "stream",
     "text": [
      "OGR data source with driver: ESRI Shapefile \n",
      "Source: \"/home/frantzda/cor/covid19/data/BL_mit_EW_und_Faellen.shp\", layer: \"BL_mit_EW_und_Faellen\"\n",
      "with 16 features\n",
      "It has 14 fields\n"
     ]
    }
   ],
   "source": [
    "bl <- readOGR(\"data/BL_mit_EW_und_Faellen.shp\")\n",
    "bl_simple <- gSimplify(bl, topologyPreserve=TRUE, tol = 0.025)\n",
    "writeOGR(as(bl_simple, \"SpatialPolygonsDataFrame\"), \"data/BL_simple.shp\", \"states\", \"ESRI Shapefile\")"
   ]
  },
  {
   "cell_type": "markdown",
   "metadata": {},
   "source": [
    "## 2. Prepare COVID-19 data\n",
    "\n",
    "### 2.1 Download and clean data\n",
    "\n",
    "This code snippet downloads and prepares the **latest COVID-19 data** from RKI.\n",
    "RKI updates the COVID-19 cases on a daily basis.\n",
    "\n",
    "The cases are reported for districts (\"Landkreise\") - with the exception of Berlin, where cases are reported for the 12 \"Bezirke\".\n",
    "\n",
    "Data source: [Robert Koch-Institut (RKI), dl-de/by-2-0](https://npgeo-corona-npgeo-de.hub.arcgis.com/datasets/dd4580c810204019a7b8eb3e0b329dd6_0)"
   ]
  },
  {
   "cell_type": "code",
   "execution_count": 3,
   "metadata": {},
   "outputs": [
    {
     "name": "stdout",
     "output_type": "stream",
     "text": [
      "'data.frame':\t152938 obs. of  21 variables:\n",
      " $ FID                 : int  13365240 13365241 13365242 13365243 13365244 13365245 13365246 13365247 13365248 13365249 ...\n",
      " $ IdBundesland        : int  1 1 1 1 1 1 1 1 1 1 ...\n",
      " $ Bundesland          : Factor w/ 16 levels \"Baden-Württemberg\",..: 15 15 15 15 15 15 15 15 15 15 ...\n",
      " $ Landkreis           : Factor w/ 412 levels \"LK Ahrweiler\",..: 336 336 336 336 336 336 336 336 336 336 ...\n",
      " $ Altersgruppe        : Factor w/ 7 levels \"A00-A04\",\"A05-A14\",..: 3 3 3 3 3 3 3 3 3 3 ...\n",
      " $ Geschlecht          : Factor w/ 3 levels \"M\",\"unbekannt\",..: 1 1 1 1 1 1 1 1 1 1 ...\n",
      " $ AnzahlFall          : num  1 1 1 1 1 1 1 1 1 1 ...\n",
      " $ AnzahlTodesfall     : int  0 0 0 0 0 0 0 0 0 0 ...\n",
      " $ Meldedatum          : Factor w/ 129 levels \"2020/01/28 00:00:00\",..: 31 36 36 38 44 52 54 55 57 107 ...\n",
      " $ IdLandkreis         : int  1001 1001 1001 1001 1001 1001 1001 1001 1001 1001 ...\n",
      " $ Datenstand          : Factor w/ 1 level \"21.06.2020, 00:00 Uhr\": 1 1 1 1 1 1 1 1 1 1 ...\n",
      " $ NeuerFall           : int  0 0 0 0 0 0 0 0 0 0 ...\n",
      " $ NeuerTodesfall      : int  -9 -9 -9 -9 -9 -9 -9 -9 -9 -9 ...\n",
      " $ Refdatum            : Factor w/ 152 levels \"2020/01/01 00:00:00\",..: 56 53 56 53 62 72 73 73 76 130 ...\n",
      " $ NeuGenesen          : int  0 0 0 0 0 0 0 0 0 0 ...\n",
      " $ AnzahlGenesen       : int  1 1 1 1 1 1 1 1 1 1 ...\n",
      " $ IstErkrankungsbeginn: int  1 1 1 1 1 1 1 1 1 0 ...\n",
      " $ Altersgruppe2       : Factor w/ 1 level \"Nicht übermittelt\": 1 1 1 1 1 1 1 1 1 1 ...\n",
      " $ RS                  : int  1001 1001 1001 1001 1001 1001 1001 1001 1001 1001 ...\n",
      " $ date                : POSIXct, format: \"2020-03-14\" \"2020-03-19\" ...\n",
      " $ doy                 : int  74 79 79 81 87 95 97 98 100 150 ...\n"
     ]
    }
   ],
   "source": [
    "# download latest data\n",
    "#download.file(\"https://opendata.arcgis.com/datasets/dd4580c810204019a7b8eb3e0b329dd6_0.csv\", \"data/RKI_COVID19.csv\")\n",
    "download.file(\"https://www.arcgis.com/sharing/rest/content/items/f10774f1c63e40168479a1feb6c7ca74/data\", \"data/RKI_COVID19.csv\")\n",
    "\n",
    "# read COVID-19 statistics\n",
    "rki <- read.csv(\"data/RKI_COVID19.csv\")\n",
    "#str(rki)\n",
    "\n",
    "# add new column for Landkreis ID\n",
    "rki <- cbind(rki, RS=as.integer(rki$IdLandkreis))\n",
    "#str(rki)\n",
    "\n",
    "# dissolve Berlin districts\n",
    "#rki$RS[which(rki$RS > 11000 & rki$RS < 12000)] <- 11000L\n",
    "#rki$Landkreis <- gsub(\"(SK Berlin).*\", \"\\\\1\", rki$Landkreis)\n",
    "\n",
    "# fix -1 cases\n",
    "# not sure why this happens, but if these values are set to 1, the cases are identical to the ones reported in the news\n",
    "rki$AnzahlFall[which(rki$AnzahlFall < 1)] <- 1\n",
    "\n",
    "# add new column with a proper date and DOY\n",
    "rki <- cbind(rki, date=as.POSIXct(rki$Meldedatum))\n",
    "rki <- cbind(rki, doy=as.integer(format(rki$date, \"%j\")))\n",
    "str(rki)\n"
   ]
  },
  {
   "cell_type": "markdown",
   "metadata": {},
   "source": [
    "### 2.2 Convert to dataframe\n",
    "\n",
    "The RKI data are very detailed.\n",
    "For keeping things simple, we only keep necessary variables:\n",
    "- coordinates (Lat/Lon)\n",
    "- time\n",
    "- Landkreis name and ID\n",
    "- population\n",
    "\n",
    "If all properties (e.g. district, date, age, gender etc.) are the same, RKI seems to group cases.\n",
    "However, we need the number of cases per district and day (but regardless of age or gender).\n",
    "1. We firstly explode these groups into individual cases.\n",
    "   The dataframe ``df`` has one row for each COVID-19 case in Germany.\n",
    "   Many rows in ``df`` are redundant.\n",
    "2. We count unique rows.\n",
    "   The new dataframe ``df_day`` has one row per district and day (with case count as extra column)."
   ]
  },
  {
   "cell_type": "code",
   "execution_count": 4,
   "metadata": {},
   "outputs": [
    {
     "name": "stderr",
     "output_type": "stream",
     "text": [
      "Loading required package: plyr\n",
      "\n"
     ]
    },
    {
     "name": "stdout",
     "output_type": "stream",
     "text": [
      "'data.frame':\t189849 obs. of  7 variables:\n",
      " $ X  : num  9.44 9.44 9.44 9.44 9.44 ...\n",
      " $ Y  : num  54.8 54.8 54.8 54.8 54.8 ...\n",
      " $ T  : POSIXct, format: \"2020-03-14\" \"2020-03-19\" ...\n",
      " $ DOY: int  74 79 79 81 87 95 97 98 100 150 ...\n",
      " $ LK : Factor w/ 412 levels \"LK Ahrweiler\",..: 336 336 336 336 336 336 336 336 336 336 ...\n",
      " $ ID : int  1001 1001 1001 1001 1001 1001 1001 1001 1001 1001 ...\n",
      " $ POP: int  89504 89504 89504 89504 89504 89504 89504 89504 89504 89504 ...\n",
      "'data.frame':\t24985 obs. of  8 variables:\n",
      " $ X  : num  9.44 9.44 9.44 9.44 9.44 ...\n",
      " $ Y  : num  54.8 54.8 54.8 54.8 54.8 ...\n",
      " $ T  : POSIXct, format: \"2020-03-14\" \"2020-03-19\" ...\n",
      " $ DOY: int  74 79 81 87 95 97 98 100 150 78 ...\n",
      " $ LK : Factor w/ 412 levels \"LK Ahrweiler\",..: 336 336 336 336 336 336 336 336 336 336 ...\n",
      " $ ID : int  1001 1001 1001 1001 1001 1001 1001 1001 1001 1001 ...\n",
      " $ POP: int  89504 89504 89504 89504 89504 89504 89504 89504 89504 89504 ...\n",
      " $ N  : int  4 4 1 1 1 1 1 1 1 2 ...\n"
     ]
    }
   ],
   "source": [
    "require(plyr) # count cases for each LK and day\n",
    "\n",
    "# compile dataframe\n",
    "# sometimes, cases are reported together -> explode\n",
    "df <- data.frame(X=0, \n",
    "                 Y=0, \n",
    "                 T=rep(rki$date,       rki$AnzahlFall),\n",
    "                 DOY=rep(rki$doy,      rki$AnzahlFall),\n",
    "                 LK=rep(rki$Landkreis, rki$AnzahlFall),\n",
    "                 ID=rep(rki$RS,        rki$AnzahlFall),\n",
    "                 POP=0)\n",
    "pos <- sapply(df$ID, function(x)which(x==lk_$RS))\n",
    "df$X   <- lk_$x[pos]\n",
    "df$Y   <- lk_$y[pos]\n",
    "df$POP <- lk_$POP[pos]\n",
    "str(df)\n",
    "              \n",
    "# compile analysis-ready data\n",
    "df_day <- count(df)\n",
    "colnames(df_day)[8] <- \"N\"\n",
    "str(df_day)"
   ]
  },
  {
   "cell_type": "markdown",
   "metadata": {},
   "source": [
    "## 3. Export analysis-ready data"
   ]
  },
  {
   "cell_type": "code",
   "execution_count": 5,
   "metadata": {},
   "outputs": [],
   "source": [
    "# write table with n cases per day and LK\n",
    "write.csv(df_day, \"data/covid19-deu.csv\", row.names=FALSE)"
   ]
  }
 ],
 "metadata": {
  "kernelspec": {
   "display_name": "R",
   "language": "R",
   "name": "ir"
  },
  "language_info": {
   "codemirror_mode": "r",
   "file_extension": ".r",
   "mimetype": "text/x-r-source",
   "name": "R",
   "pygments_lexer": "r",
   "version": "3.6.3"
  }
 },
 "nbformat": 4,
 "nbformat_minor": 4
}
