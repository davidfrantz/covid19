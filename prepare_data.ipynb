{
 "cells": [
  {
   "cell_type": "code",
   "execution_count": 19,
   "metadata": {},
   "outputs": [
    {
     "name": "stdout",
     "output_type": "stream",
     "text": [
      "OGR data source with driver: ESRI Shapefile \n",
      "Source: \"/home/frantzda/cor/covid19/data/Kreisgrenzen_2019.shp\", layer: \"Kreisgrenzen_2019\"\n",
      "with 401 features\n",
      "It has 19 fields\n",
      "'data.frame':\t401 obs. of  3 variables:\n",
      " $ x : num  9.44 10.13 10.73 9.98 9.11 ...\n",
      " $ y : num  54.8 54.3 53.9 54.1 54.1 ...\n",
      " $ RS: int  1001 1002 1003 1004 1051 1053 1054 1055 1056 1057 ...\n"
     ]
    }
   ],
   "source": [
    "require(rgdal)\n",
    "require(rgeos)\n",
    "\n",
    "# read Landkreis Shapefile\n",
    "lk <- readOGR(\"data/Kreisgrenzen_2019.shp\")\n",
    "#str(lk@data)\n",
    "\n",
    "# compute centroid per polygon\n",
    "cen <- gCentroid(lk, byid=TRUE)\n",
    "#str(cen)\n",
    "\n",
    "# make table with coordinates and Landkreis ID\n",
    "lk_ <- cbind(as.data.frame(cen@coords), RS=as.integer(gsub(\"^0\", \"\", lk$RS)))\n",
    "str(lk_)"
   ]
  },
  {
   "cell_type": "markdown",
   "metadata": {},
   "source": [
    "# GeoService Link\n",
    "https://services7.arcgis.com/mOBPykOjAyBO2ZKk/arcgis/rest/services/RKI_COVID19/FeatureServer/0/query?outFields=*&where=1%3D1\n",
    "\n",
    "# GeoJSON link\n",
    "https://opendata.arcgis.com/datasets/dd4580c810204019a7b8eb3e0b329dd6_0.geojson"
   ]
  },
  {
   "cell_type": "code",
   "execution_count": 34,
   "metadata": {},
   "outputs": [
    {
     "name": "stdout",
     "output_type": "stream",
     "text": [
      "'data.frame':\t138307 obs. of  20 variables:\n",
      " $ FID                 : int  7372424 7372425 7372426 7372427 7372428 7372429 7372430 7372431 7372432 7372433 ...\n",
      " $ IdBundesland        : int  1 1 1 1 1 1 1 1 1 1 ...\n",
      " $ Bundesland          : Factor w/ 16 levels \"Baden-Württemberg\",..: 15 15 15 15 15 15 15 15 15 15 ...\n",
      " $ Landkreis           : Factor w/ 412 levels \"LK Ahrweiler\",..: 336 336 336 336 336 336 336 336 336 336 ...\n",
      " $ Altersgruppe        : Factor w/ 7 levels \"A00-A04\",\"A05-A14\",..: 3 3 3 3 3 3 3 3 3 3 ...\n",
      " $ Geschlecht          : Factor w/ 3 levels \"M\",\"unbekannt\",..: 1 1 1 1 1 1 1 1 1 3 ...\n",
      " $ AnzahlFall          : num  1 1 1 1 1 1 1 1 1 1 ...\n",
      " $ AnzahlTodesfall     : int  0 0 0 0 0 0 0 0 0 0 ...\n",
      " $ Meldedatum          : Factor w/ 95 levels \"2020/01/28 00:00:00\",..: 31 36 36 38 44 52 54 55 57 31 ...\n",
      " $ IdLandkreis         : int  1001 1001 1001 1001 1001 1001 1001 1001 1001 1001 ...\n",
      " $ Datenstand          : Factor w/ 1 level \"18.05.2020, 00:00 Uhr\": 1 1 1 1 1 1 1 1 1 1 ...\n",
      " $ NeuerFall           : int  0 0 0 0 0 0 0 0 0 0 ...\n",
      " $ NeuerTodesfall      : int  -9 -9 -9 -9 -9 -9 -9 -9 -9 -9 ...\n",
      " $ Refdatum            : Factor w/ 120 levels \"2020/01/01 00:00:00\",..: 58 55 58 55 64 74 75 75 78 54 ...\n",
      " $ NeuGenesen          : int  0 0 0 0 0 0 0 0 0 0 ...\n",
      " $ AnzahlGenesen       : int  1 1 1 1 1 1 1 1 1 1 ...\n",
      " $ IstErkrankungsbeginn: int  1 1 1 1 1 1 1 1 1 1 ...\n",
      " $ Altersgruppe2       : Factor w/ 1 level \"Nicht übermittelt\": 1 1 1 1 1 1 1 1 1 1 ...\n",
      " $ RS                  : int  1001 1001 1001 1001 1001 1001 1001 1001 1001 1001 ...\n",
      " $ date                : POSIXct, format: \"2020-03-14\" \"2020-03-19\" ...\n"
     ]
    }
   ],
   "source": [
    "# read COVID-19 statistics\n",
    "rki <- read.csv(\"data/RKI_COVID19.csv\")\n",
    "#str(rki)\n",
    "\n",
    "# add new column for Landkreis ID\n",
    "rki <- cbind(rki, RS=as.integer(rki$IdLandkreis))\n",
    "#str(rki)\n",
    "\n",
    "# dissolve Berlin districts\n",
    "rki$RS[which(rki$RS > 11000 & rki$RS < 12000)] <- 11000L\n",
    "\n",
    "# fix -1 cases\n",
    "rki$AnzahlFall[which(rki$AnzahlFall < 1)] <- 1\n",
    "\n",
    "# add new column with date\n",
    "rki <- cbind(rki, date=as.POSIXct(rki$Meldedatum))\n",
    "str(rki)\n"
   ]
  },
  {
   "cell_type": "code",
   "execution_count": 42,
   "metadata": {},
   "outputs": [
    {
     "name": "stdout",
     "output_type": "stream",
     "text": [
      "'data.frame':\t174707 obs. of  5 variables:\n",
      " $ X : num  9.44 9.44 9.44 9.44 9.44 ...\n",
      " $ Y : num  54.8 54.8 54.8 54.8 54.8 ...\n",
      " $ T : POSIXct, format: \"2020-03-14\" \"2020-03-19\" ...\n",
      " $ LK: Factor w/ 412 levels \"LK Ahrweiler\",..: 336 336 336 336 336 336 336 336 336 336 ...\n",
      " $ ID: int  1001 1001 1001 1001 1001 1001 1001 1001 1001 1001 ...\n"
     ]
    }
   ],
   "source": [
    "# compile final table\n",
    "df <- data.frame(X=0, \n",
    "                 Y=0, \n",
    "                 T=rep(rki$date,       rki$AnzahlFall),\n",
    "                 LK=rep(rki$Landkreis, rki$AnzahlFall),\n",
    "                 ID=rep(rki$RS,        rki$AnzahlFall))\n",
    "pos <- sapply(df$ID, function(x)which(x==lk_$RS))\n",
    "df$X <- lk_$x[pos]\n",
    "df$Y <- lk_$y[pos]\n",
    "str(df)"
   ]
  },
  {
   "cell_type": "code",
   "execution_count": 47,
   "metadata": {},
   "outputs": [],
   "source": [
    "# write table\n",
    "write.csv(df, \"data/covid19-deu.csv\", row.names=FALSE)"
   ]
  }
 ],
 "metadata": {
  "kernelspec": {
   "display_name": "R",
   "language": "R",
   "name": "ir"
  },
  "language_info": {
   "codemirror_mode": "r",
   "file_extension": ".r",
   "mimetype": "text/x-r-source",
   "name": "R",
   "pygments_lexer": "r",
   "version": "3.6.3"
  }
 },
 "nbformat": 4,
 "nbformat_minor": 4
}
