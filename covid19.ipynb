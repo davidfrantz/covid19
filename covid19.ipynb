{
 "cells": [
  {
   "cell_type": "markdown",
   "metadata": {},
   "source": [
    "# Spatiotemporal Clustering of COVID-19 Infections in Germany"
   ]
  },
  {
   "cell_type": "markdown",
   "metadata": {},
   "source": [
    "<img src=\"static/sars-cov-2.jpg\">\n",
    "(c) imago images/ZUMA Press"
   ]
  },
  {
   "cell_type": "markdown",
   "metadata": {},
   "source": [
    "> **Note**: This notebook runs the [R-Kernel](https://irkernel.github.io/installation/)."
   ]
  },
  {
   "cell_type": "markdown",
   "metadata": {},
   "source": [
    "## 1. About"
   ]
  },
  {
   "cell_type": "markdown",
   "metadata": {},
   "source": [
    "### 1.1 COVID-19 data\n",
    "\n",
    "This notebook visualizes and clusters COVID-19 infections published by the **Robert Koch-Institute (RKI)** in anonymized form.\n",
    "\n",
    "The data represent the official statistics for Germany, i.e. confirmed cases that are reported from the medical authorities.\n",
    "\n",
    "The spatial reporting unit is commonly the place of residence - not the place of the infection.\n",
    "\n",
    "The reporting date is the date when the infection was reported to the RKI - not the date of the infection.\n",
    "\n",
    "The data are updated daily.\n",
    "To use the latest COVID-19 data, run the Jupyter Notebook `prepare_data.ipynb` before proceeding.\n",
    "\n",
    "<img src=\"static/tagesschau.jpg\" width=500>\n",
    "(c) tagesschau"
   ]
  },
  {
   "cell_type": "markdown",
   "metadata": {},
   "source": [
    "### 1.2 Clustering\n",
    "\n",
    "We will use the classical **DBSCAN** algorithm to cluster the infections with respect to their spatial and temporal occurence.\n",
    "\n",
    "For theory, see the presentation `material/spatio-temporal-clustering.pdf`.\n",
    "\n",
    "<img src=\"static/dbscan-cluster.jpg\" width=500>\n",
    "\n",
    "For algorithm, see the paper `literature/ester_etal_kdd_1996.pdf`.\n",
    "\n",
    "We are using the R-package `dbscan`, which provides a very fast runtime suitable for a live demo with real data. \n",
    "For details, see `literature/hahsler_etal_jss_2019.pdf`."
   ]
  },
  {
   "cell_type": "markdown",
   "metadata": {},
   "source": [
    "---"
   ]
  },
  {
   "cell_type": "markdown",
   "metadata": {},
   "source": [
    "## 2. First look at the Data "
   ]
  },
  {
   "cell_type": "markdown",
   "metadata": {},
   "source": [
    "### 2.1 Read the data"
   ]
  },
  {
   "cell_type": "markdown",
   "metadata": {},
   "source": [
    "We read a application-ready table that holds all entries with more than 25 reported cases to look at the hotspots of the CORONA pandemic."
   ]
  },
  {
   "cell_type": "code",
   "execution_count": null,
   "metadata": {},
   "outputs": [],
   "source": [
    "covid <- read.csv(\"data/covid19-deu_25-cases.csv\")\n",
    "covid$T <- as.POSIXct(covid$T)\n",
    "str(covid)"
   ]
  },
  {
   "cell_type": "markdown",
   "metadata": {},
   "source": [
    "> | Variable  | Description |\n",
    "> |-----------|-------------|\n",
    "> | X         | Longitude of district centroid |\n",
    "> | Y         | Latitude  of district centroid |\n",
    "> | DOY       | Day-of-Year |\n",
    "> | T         | Date |\n",
    "> | N         | Number of infections |\n",
    "> | NAME      | District Name |"
   ]
  },
  {
   "cell_type": "markdown",
   "metadata": {},
   "source": [
    "The cases are reported for 412 districts (\"Landkreise\" or \"Stadtkreise\" - in most cases). \n",
    "\n",
    "Optimally, we would have access to much finer data, e.g. the address.\n",
    "This is not possible due to data protection policies."
   ]
  },
  {
   "cell_type": "markdown",
   "metadata": {},
   "source": [
    "Nonetheless, we are treating the spatial dimension of the reported cases as point dataset.\n",
    "The table includes the district centroids as X- and Y-coordinates (decimal degree). \n",
    "Note that each case in the same district has the same coordinates."
   ]
  },
  {
   "cell_type": "markdown",
   "metadata": {},
   "source": [
    "### 2.2 Display Space and Time"
   ]
  },
  {
   "cell_type": "markdown",
   "metadata": {},
   "source": [
    "The following lines generate a spatiotemporal animation with daily time steps."
   ]
  },
  {
   "cell_type": "markdown",
   "metadata": {},
   "source": [
    "First, we load a shapefile with states for having a background map for visualization:"
   ]
  },
  {
   "cell_type": "code",
   "execution_count": null,
   "metadata": {},
   "outputs": [],
   "source": [
    "# states as background layer in maps\n",
    "require(sf)     # read shapefiles\n",
    "\n",
    "state <- read_sf(\"data/BL_simple.shp\") # simplified shapefile for faster rendering"
   ]
  },
  {
   "cell_type": "markdown",
   "metadata": {},
   "source": [
    "We use the ``plotly`` package to generate interactive maps."
   ]
  },
  {
   "cell_type": "code",
   "execution_count": null,
   "metadata": {},
   "outputs": [],
   "source": [
    "require(plotly) # interactive plots"
   ]
  },
  {
   "cell_type": "code",
   "execution_count": null,
   "metadata": {},
   "outputs": [],
   "source": [
    "options(warn = -1) # disable some spurious plot_ly warning\n",
    "\n",
    "plot_ly(height = 600) %>%\n",
    "\n",
    "# plot the states as background layer\n",
    "add_sf(data       = state, \n",
    "       type       = \"scatter\", \n",
    "       color      = I(\"grey90\"), \n",
    "       stroke     = I(\"grey40\"), \n",
    "       hoverinfo  = 'skip', \n",
    "       showlegend = FALSE) %>%\n",
    "\n",
    "# plot the COVID-19 cases as animation\n",
    "add_trace(type      = \"scatter\", \n",
    "          mode      = \"markers\", \n",
    "          x         = covid$X, \n",
    "          y         = covid$Y, \n",
    "          frame     = covid$DOY, \n",
    "          text      = paste(covid$NAME, '<br>', covid$N, 'infections<br>', covid$T), \n",
    "          hoverinfo = \"text\") %>% \n",
    "\n",
    "# some layout options\n",
    "animation_opts(250) %>% #, easing = \"elastic\", redraw = FALSE) %>%\n",
    "layout(showlegend = FALSE)"
   ]
  },
  {
   "cell_type": "markdown",
   "metadata": {},
   "source": [
    "> **Note**: If the map is not fully visible, click on the blue polygon on the left margin, then on the ``...`` button."
   ]
  },
  {
   "cell_type": "markdown",
   "metadata": {},
   "source": [
    "---"
   ]
  },
  {
   "cell_type": "markdown",
   "metadata": {},
   "source": [
    "## 3. Cluster Analysis"
   ]
  },
  {
   "cell_type": "code",
   "execution_count": null,
   "metadata": {},
   "outputs": [],
   "source": [
    "require(dbscan) # dbscan clustering"
   ]
  },
  {
   "cell_type": "markdown",
   "metadata": {},
   "source": [
    "### 3.1 Data scaling"
   ]
  },
  {
   "cell_type": "markdown",
   "metadata": {},
   "source": [
    "<font color='blue'>**How much time equals a unit of space?**</font>\n",
    "\n",
    "By scaling the time, we are getting the spatial and temporal dimension into the same ballpark.\n",
    "\n",
    "14 days seems to be number that is relevant for the spread of COVID-19."
   ]
  },
  {
   "cell_type": "code",
   "execution_count": null,
   "metadata": {},
   "outputs": [],
   "source": [
    "diff(range(covid$X))\n",
    "diff(range(covid$Y))\n",
    "diff(range(covid$DOY))"
   ]
  },
  {
   "cell_type": "code",
   "execution_count": null,
   "metadata": {},
   "outputs": [],
   "source": [
    "diff(range(covid$X))\n",
    "diff(range(covid$Y))\n",
    "diff(range(covid$DOY/14.0))"
   ]
  },
  {
   "cell_type": "markdown",
   "metadata": {},
   "source": [
    "### 3.2 Build matrix with ST triplets"
   ]
  },
  {
   "cell_type": "code",
   "execution_count": null,
   "metadata": {},
   "outputs": [],
   "source": [
    "mat <- cbind(covid$X, \n",
    "             covid$Y, \n",
    "             covid$DOY/14.0)"
   ]
  },
  {
   "cell_type": "markdown",
   "metadata": {},
   "source": [
    "### 3.3 Find optimal parameters for DBSCAN"
   ]
  },
  {
   "cell_type": "markdown",
   "metadata": {},
   "source": [
    "*a)* *k (MinPts)* can be set to the number of dimensions + 1.\n",
    "\n",
    "*b)* *Eps* can be derived from the k-dist graph. Look for the knee!"
   ]
  },
  {
   "cell_type": "code",
   "execution_count": null,
   "metadata": {},
   "outputs": [],
   "source": [
    "k <- 4\n",
    "\n",
    "kNNdistplot(mat, k = k)\n",
    "abline(h = seq(0, 1, 0.2), lty = 3)"
   ]
  },
  {
   "cell_type": "markdown",
   "metadata": {},
   "source": [
    "### 3.4 Clustering"
   ]
  },
  {
   "cell_type": "code",
   "execution_count": null,
   "metadata": {},
   "outputs": [],
   "source": [
    "eps <- 0.4\n",
    "\n",
    "res <- dbscan(mat, eps = eps, minPts = k)\n",
    "res"
   ]
  },
  {
   "cell_type": "markdown",
   "metadata": {},
   "source": [
    "The clustering result (``res$cluster``) is a vector that matches the number of lines in the input matrix.\n",
    "\n",
    "We can join the cluster results wih the input matrix."
   ]
  },
  {
   "cell_type": "code",
   "execution_count": null,
   "metadata": {},
   "outputs": [],
   "source": [
    "covid_ <- cbind(covid, \n",
    "                cluster = res$cluster)"
   ]
  },
  {
   "cell_type": "markdown",
   "metadata": {},
   "source": [
    "### 3.5 Visualize clusters"
   ]
  },
  {
   "cell_type": "code",
   "execution_count": null,
   "metadata": {},
   "outputs": [],
   "source": [
    "plot_ly(height = 650) %>%\n",
    "\n",
    "# plot the states as background layer\n",
    "add_sf(data       = state, \n",
    "       type       = \"scatter\", \n",
    "       color      = I(\"grey90\"), \n",
    "       stroke     = I(\"grey40\"), \n",
    "       hoverinfo  = 'skip', \n",
    "       showlegend = FALSE) %>%\n",
    "\n",
    "# plot the COVID-19 clusters\n",
    "add_trace(type      = \"scatter\", \n",
    "          mode      = \"markers\", \n",
    "          x         = covid_$X, \n",
    "          y         = covid_$Y, \n",
    "          split     = covid_$cluster, \n",
    "          marker    = list(size = sqrt(covid_$N), opacity = 0.1), \n",
    "          text      = paste(covid_$NAME, '<br>Cluster:', covid_$cluster), \n",
    "          hoverinfo = \"text\") %>% \n",
    "\n",
    "# hide the legend bc there are too many clusters\n",
    "layout(showlegend = TRUE)"
   ]
  },
  {
   "cell_type": "markdown",
   "metadata": {},
   "source": [
    "---"
   ]
  },
  {
   "cell_type": "markdown",
   "metadata": {
    "jupyter": {
     "source_hidden": true
    }
   },
   "source": [
    "## 4. Display time series for clusters"
   ]
  },
  {
   "cell_type": "markdown",
   "metadata": {
    "jupyter": {
     "source_hidden": true
    }
   },
   "source": [
    "### 4.1. Plot time series"
   ]
  },
  {
   "cell_type": "code",
   "execution_count": null,
   "metadata": {
    "jupyter": {
     "source_hidden": true
    }
   },
   "outputs": [],
   "source": [
    "# read the full time series with all infections\n",
    "covid_full <- read.csv(\"data/covid19-deu.csv\")\n",
    "covid_full$T <- as.POSIXct(covid_full$T)\n",
    "str(covid_full)\n",
    "sum(covid_full$N)"
   ]
  },
  {
   "cell_type": "code",
   "execution_count": null,
   "metadata": {
    "jupyter": {
     "source_hidden": true
    }
   },
   "outputs": [],
   "source": [
    "# convenience function for visualizing interactive COVID-19 time series\n",
    "source(\"./plot_covid.r\")"
   ]
  },
  {
   "cell_type": "markdown",
   "metadata": {
    "jupyter": {
     "source_hidden": true
    }
   },
   "source": [
    "> **Usage**\n",
    ">\n",
    "> plot_cases(x, cum=TRUE, incidence=TRUE, LK=NULL, timing=NULL)\n",
    "> \n",
    "> | Argument  | Description |\n",
    "> |-----------|-------------|\n",
    "> | x         | COVID-19 data |\n",
    "> | cum       | Plot cumulative cases? Needs to be TRUE or FALSE |\n",
    "> | incidence | Plot incidence? Needs to be TRUE or FALSE |\n",
    "> | LK        | Plot individual districts? Needs to be a vector with \"Landkreis\" names |\n",
    "> | timing    | Superimpose a temporal window? Needs to be a vector of length 2 with minimum and maximum dates (POSIXct) |"
   ]
  },
  {
   "cell_type": "code",
   "execution_count": null,
   "metadata": {
    "jupyter": {
     "source_hidden": true
    }
   },
   "outputs": [],
   "source": [
    "# Display the full time series for Germany \n",
    "\n",
    "#plot_covid(covid_full, cum = FALSE, incidence = FALSE) # absolute number of infections\n",
    "#plot_covid(covid_full, incidence = FALSE) # cumulated absolute number of infections\n",
    "#plot_covid(covid_full) # cumulated incidence"
   ]
  },
  {
   "cell_type": "code",
   "execution_count": null,
   "metadata": {
    "jupyter": {
     "source_hidden": true
    }
   },
   "outputs": [],
   "source": [
    "# Display the data for some selected districts:\n",
    "\n",
    "#selection <- c(\n",
    "#    \"Rhein-Hunsrück-Kreis\",\n",
    "#    \"Trier\",\n",
    "#    \"Trier-Saarburg\")\n",
    "\n",
    "#plot_covid(covid_full, names = selection)"
   ]
  },
  {
   "cell_type": "markdown",
   "metadata": {
    "jupyter": {
     "source_hidden": true
    }
   },
   "source": [
    "### 4.2 Plot the time series of some clusters we have identified in the cluster map"
   ]
  },
  {
   "cell_type": "code",
   "execution_count": null,
   "metadata": {
    "jupyter": {
     "source_hidden": true
    }
   },
   "outputs": [],
   "source": [
    "id <- 6:8\n",
    "id <- 19\n",
    "n_id <- length(id)"
   ]
  },
  {
   "cell_type": "code",
   "execution_count": null,
   "metadata": {
    "jupyter": {
     "source_hidden": true
    }
   },
   "outputs": [],
   "source": [
    "# put the plot_ly plots in a list - bc the for loop will supress plotting otherwise\n",
    "p <- vector(\"list\", n_id)\n",
    "\n",
    "# make a plot for each selected cluster\n",
    "for (i in 1:n_id){ \n",
    "    \n",
    "    # get cluster\n",
    "    sub <- subset(covid_, cluster == id[i])\n",
    "    \n",
    "    # get all districts in this cluster\n",
    "    districts <- unique(sub$NAME)\n",
    "\n",
    "    # get the temporal limits of this cluster\n",
    "    tlim  <- range(sub$T)\n",
    "\n",
    "    # plot the time series of this cluster\n",
    "    p[[i]] <- plot_covid(covid_full, names = districts, timing = tlim)\n",
    "\n",
    "}\n",
    "\n",
    "# display all the plots\n",
    "p"
   ]
  },
  {
   "cell_type": "code",
   "execution_count": null,
   "metadata": {
    "jupyter": {
     "source_hidden": true
    }
   },
   "outputs": [],
   "source": []
  }
 ],
 "metadata": {
  "kernelspec": {
   "display_name": "R",
   "language": "R",
   "name": "ir"
  },
  "language_info": {
   "codemirror_mode": "r",
   "file_extension": ".r",
   "mimetype": "text/x-r-source",
   "name": "R",
   "pygments_lexer": "r",
   "version": "3.6.3"
  }
 },
 "nbformat": 4,
 "nbformat_minor": 4
}
